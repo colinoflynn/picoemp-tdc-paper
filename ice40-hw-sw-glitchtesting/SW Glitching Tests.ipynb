{
 "cells": [
  {
   "cell_type": "markdown",
   "metadata": {},
   "source": [
    "# Part 2, Topic 1: Introduction to Voltage Glitching (MAIN)"
   ]
  },
  {
   "cell_type": "markdown",
   "metadata": {},
   "source": [
    "---\n",
    "NOTE: This lab references some (commercial) training material on [ChipWhisperer.io](https://www.ChipWhisperer.io). You can freely execute and use the lab per the open-source license (including using it in your own courses if you distribute similarly), but you must maintain notice about this source location. Consider joining our training course to enjoy the full experience.\n",
    "\n",
    "---"
   ]
  },
  {
   "cell_type": "markdown",
   "metadata": {},
   "source": [
    "**SUMMARY:** *Similarly to clock glitching, inserting brief glitches into the power line of an embedded device can result in skipped instructions and corrupted results. Besides providing a more reliable glitch on some targets when compared to clock glitching, voltage glitching also has the advanatage that the Vcc pins on chips are always accessable. This won't be covered in this course, but it can also be used to glitch a device asynchronous to its clock.*\n",
    "\n",
    "**LEARNING OUTCOMES:**\n",
    "\n",
    "* Understanding voltage glitch settings\n",
    "* Building a voltage glitch and crash map.\n",
    "* Modifying glitch circuit to increase glitch success"
   ]
  },
  {
   "cell_type": "markdown",
   "metadata": {},
   "source": [
    "## Voltage Glitch Hardware\n",
    "\n",
    "The ChipWhisperer uses the same hardware block for both voltage and clock glitching, with the only difference being where the glitch output is routed to. Instead of routing to HS2, voltage glitching is performed by routing the glitch to either the `glitch_hp` transistor or the `glitch_lp` transistor. This can be done via the following API calls:\n",
    "\n",
    "```python\n",
    "scope.io.glitch_hp = True #enable HP glitch\n",
    "scope.io.glitch_hp = False #disable LP glitch\n",
    "scope.io.glitch_lp = True #enable LP glitch\n",
    "scope.io.glitch_lp = False #disable LP glitch\n",
    "```\n",
    "\n",
    "While the hardware block are the same, you'll need to change how it's configued. You wouldn't want to try routing `\"clock_xor\"` to the glitch transistor and oscillate Vcc like the device's clock! Instead, the following two output settings are best suited to voltage glitching:\n",
    "\n",
    "1. `\"glitch_only\"` - insert a glitch for a portion of a clock cycle based on `scope.glitch.width` and `scope.glitch.offset`\n",
    "1. `\"enable_only\"` - insert a glitch for an entire clock cycle\n",
    "\n",
    "Typically, the `\"enable_only\"` setting will be too powerful for most devices. One situation where it outshines `\"glitch_only\"` is in glitching asychronous to the target's clock. An example of this is glitching a target with an internal clock. In this case, the ChipWhisperer's clock can be boosted far above the target's to insert a precise glitch, with `repeat` functioning as `width` and `ext_offset` functioning as `offset`.\n",
    "\n",
    "### Voltage Glitching vs. Clock Glitching\n",
    "\n",
    "Voltage glitching has some obvious benefits over clock glitching, such as working for a wider varitey of targets, but its downsides are less obvious. One of the biggest is how much it depends on the actual glitch circuit itself. With clock glitching, it's relatively easy to insert a glitch - there's nothing external trying to keep the clock at a certain voltage level. This is very different for a target's power pins. When we try to drop the power pin to ground, there's a lot of stuff fighting us to keep the power pin at the correct voltage, such as decoupling capacitors, bulk supply capacitors, and the voltage regulator supplying the voltage. This means when we make small changes to the glitch circuit, the glitch settings and even our ability to insert a glitch at all completely change! Consider glitching a target on the CW308 UFO board. If you switch your coaxial cable length from 20cm to 40 cm, you'll need to find entirely new glitch settings to repeat the attack (if it's still even possible). This is quite easy to see on an oscilloscope or  using the ChipWhisperer's ADC: longer cables and lower valued shunt resistors will make the glitch less sharp and increase ringing.\n",
    "\n",
    "While your first thought might be to go for as sharp a glitch as possible, this often won't result in a high glitch success rate. If you're unable to find any working glitches with your current setup, it might be worth changing you hardware setup a bit. For example, on the ChipWhisperer Lite 1 part, you can desolder SJ5 and solder header pins to JP6. Even just connecting these pins with a jumper will have different glitch behaviour than with a soldered SJ5.\n",
    "\n",
    "You can refer to the training slides for more information about finding good glitch settings, as well as more on the theory side of voltage glitching.\n",
    "\n",
    "### The Lab\n",
    "\n",
    "To introduce you to volatge glitching and find some settings, we're going to walk back through the clock glitching loop lab. You may want to capture some power traces while you're first experimenting with glitches to see what effects different glitch widths have on the power trace. Another thing to keep in mind is that targets often won't tolerate the Vcc pin dropping for an extended period of time without crashing - once you see the target start to crash, you won't see much else with larger widths.\n",
    "\n",
    "One thing you might have to change is the glitch repeat value. Depending on how wide your glitch is, the voltage at the power pin may not recover by the time the next glitch is inserted. This can have to effect of increasing subsequent glitches' strength, which may or may not be desirable. Since glitches inserted with repeat > 1 have different strength, it's a good idea to scan through ext_offset as well.\n",
    "\n",
    "###  Higher Frequency Glitching\n",
    "\n",
    "The XMEGA target, and to a lesser extent the STM32F3, is very difficult to glitch with the default ChipWhisperer settings. Try bumping the clock frequency to 24MHz for the STM32 or 32MHz for the XMEGA and use a repeat 5-10 with both the high power and low power glitches active. You'll need to adjust the baud rate by the same proportion as the clock. This will increase the glitch precision, as the glitch width/offset step is based on the target clock, and may decrease the stability of the target.\n",
    "\n",
    "Another setup that seems to work with the XMEGA is SJ5 unsoldered, JP6 jumpered, high+low power glitch, 32MHz, and repeat=5.\n",
    "\n",
    "The ChipWhisperer Husky, with its PLL based glitching system, can typically glitch targets without needing to change the target's frequency.\n",
    "\n",
    "### Disabling Logging\n",
    "\n",
    "When glitching (or just running normally in earlier labs), you may have seen various warnings from loggers ChipWhisperer uses. This often has useful information, especially if things don't work right, but for voltage \n",
    "glitching especially, it mostly clutters up any print output you have. As such, we'll disable logging for the voltage glitching labs:\n",
    "\n",
    "```python\n",
    "cw.set_all_log_levels(cw.logging.CRITICAL)\n",
    "```\n",
    "\n",
    "You can reenable logging via\n",
    "\n",
    "```python\n",
    "cw.set_all_log_levels(cw.logging.WARNING)\n",
    "```"
   ]
  },
  {
   "cell_type": "code",
   "execution_count": 86,
   "metadata": {},
   "outputs": [],
   "source": [
    "SCOPETYPE = 'OPENADC'\n",
    "PLATFORM = 'CW308_NEORV32'\n",
    "SS_VER = 'SS_VER_2_1'"
   ]
  },
  {
   "cell_type": "code",
   "execution_count": 87,
   "metadata": {},
   "outputs": [],
   "source": [
    "CW_DIR = r\"/mnt/c/ChipWhisperer570_64/cw/home/portable/chipwhisperer\""
   ]
  },
  {
   "cell_type": "code",
   "execution_count": 88,
   "metadata": {},
   "outputs": [
    {
     "name": "stdout",
     "output_type": "stream",
     "text": [
      "INFO: Caught exception on reconnecting to target - attempting to reconnect to scope first.\n",
      "INFO: This is a work-around when USB has died without Python knowing. Ignore errors above this line.\n",
      "INFO: Found ChipWhisperer😍\n"
     ]
    }
   ],
   "source": [
    "%run \"c:/ChipWhisperer570_64/cw/home/portable/chipwhisperer/jupyter/Setup_Scripts/Setup_Generic.ipynb\""
   ]
  },
  {
   "cell_type": "code",
   "execution_count": 63,
   "metadata": {},
   "outputs": [
    {
     "name": "stdout",
     "output_type": "stream",
     "text": [
      "SS_VER set to SS_VER_2_1\n",
      "SS_VER set to SS_VER_2_1\n",
      "SS_VER set to SS_VER_2_1\n",
      "SS_VER set to SS_VER_2_1\n",
      "make[1]: '.dep' is up to date.\n",
      "SS_VER set to SS_VER_2_1\n",
      "SS_VER set to SS_VER_2_1\n",
      ".\n",
      "Welcome to another exciting ChipWhisperer target build!!\n",
      ".\n",
      "Compiling:\n",
      ".\n",
      "-en     simpleserial-glitch.c ...\n",
      "Compiling:\n",
      ".\n",
      "-en     .././simpleserial/simpleserial.c ...\n",
      "Compiling:\n",
      ".\n",
      "-en     .././hal/neorv32/neorv32_cfs.c ...\n",
      "Compiling:\n",
      ".\n",
      "-en     .././hal/neorv32/neorv32_cpu.c ...\n",
      "Compiling:\n",
      ".\n",
      "-en     .././hal/neorv32/neorv32_gpio.c ...\n",
      "Compiling:\n",
      ".\n",
      "-en     .././hal/neorv32/neorv32_gptmr.c ...\n",
      "Compiling:\n",
      ".\n",
      "-en     .././hal/neorv32/neorv32_mtime.c ...\n",
      "Compiling:\n",
      ".\n",
      "-en     .././hal/neorv32/neorv32_neoled.c ...\n",
      "Compiling:\n",
      ".\n",
      "-en     .././hal/neorv32/neorv32_pwm.c ...\n",
      "Compiling:\n",
      ".\n",
      "-en     .././hal/neorv32/neorv32_rte.c ...\n",
      "Compiling:\n",
      ".\n",
      "-en     .././hal/neorv32/neorv32_slink.c ...\n",
      "Compiling:\n",
      ".\n",
      "-en     .././hal/neorv32/neorv32_spi.c ...\n",
      "Compiling:\n",
      ".\n",
      "-en     .././hal/neorv32/neorv32_trng.c ...\n",
      "Compiling:\n",
      ".\n",
      "-en     .././hal/neorv32/neorv32_twi.c ...\n",
      "Compiling:\n",
      ".\n",
      "-en     .././hal/neorv32/neorv32_uart.c ...\n",
      "Compiling:\n",
      ".\n",
      "-en     .././hal/neorv32/neorv32_wdt.c ...\n",
      "Compiling:\n",
      ".\n",
      "-en     .././hal/neorv32/neorv32_xip.c ...\n",
      "Compiling:\n",
      ".\n",
      "-en     .././hal/neorv32/neorv32_xirq.c ...\n",
      "Compiling:\n",
      ".\n",
      "-en     .././hal/neorv32/neorv32_hal.c ...\n",
      "Compiling:\n",
      ".\n",
      "-en     .././hal/neorv32/syscalls.c ...\n",
      "Assembling: .././hal/neorv32/crt0.S\n",
      "riscv32-unknown-elf-gcc (g1ea978e3066) 12.1.0\n",
      "Copyright (C) 2022 Free Software Foundation, Inc.\n",
      "This is free software; see the source for copying conditions.  There is NO\n",
      "warranty; not even for MERCHANTABILITY or FITNESS FOR A PARTICULAR PURPOSE.\n",
      "\n",
      "riscv32-unknown-elf-gcc -c -march=rv32i -mabi=ilp32  -I. -x assembler-with-cpp -Wall -ffunction-sections -fdata-sections -nostartfiles -mno-fdiv -Wl,--gc-sections -lm -lc -lgcc -lc -falign-functions=4 -falign-labels=4 -falign-loops=4 -falign-jumps=4 -DF_CPU=7372800 -Wa,-gstabs,-adhlns=objdir-CW308_NEORV32/crt0.lst -I.././simpleserial/ -I.././simpleserial/ -I.././hal -I.././hal/neorv32 -I.././crypto/ .././hal/neorv32/crt0.S -o objdir-CW308_NEORV32/crt0.o\n",
      "-e Done!\n",
      "-e Done!\n",
      "-e Done!\n",
      "-e Done!\n",
      "-e Done!\n",
      "-e Done!\n",
      "-e Done!\n",
      "-e Done!\n",
      "-e Done!\n",
      "-e Done!\n",
      "-e Done!\n",
      "-e Done!\n",
      "-e Done!\n",
      "-e Done!\n",
      "-e Done!\n",
      "-e Done!\n",
      "-e Done!\n"
     ]
    },
    {
     "name": "stderr",
     "output_type": "stream",
     "text": [
      ".././hal/neorv32/syscalls.c:103:6: warning: \"/*\" within comment [-Wcomment]\n",
      "  103 |     //*(volatile int *)EXIT_REG = exit_status;\n",
      "      |       \n",
      ".././hal/neorv32/syscalls.c:134:19: warning: 'struct timeb' declared inside parameter list will not be visible outside of this definition or declaration\n",
      "  134 | int _ftime(struct timeb *tp)\n",
      "      |                   ^~~~~\n",
      ".././hal/neorv32/syscalls.c: In function '_sbrk':\n",
      ".././hal/neorv32/syscalls.c:266:22: warning: comparison between two arrays [-Warray-compare]\n",
      "  266 |     if (__heap_start == __heap_end) {\n",
      "      |                      ^~\n",
      ".././hal/neorv32/syscalls.c:266:22: note: use '&__heap_start[0] == &__heap_end[0]' to compare the addresses\n"
     ]
    },
    {
     "name": "stdout",
     "output_type": "stream",
     "text": [
      "-e Done!\n",
      "-e Done!\n",
      "-e Done!\n",
      ".\n",
      "LINKING:\n",
      "-en     simpleserial-glitch-CW308_NEORV32.elf ...\n",
      "-e Done!\n",
      ".\n",
      ".\n",
      ".\n",
      ".\n",
      ".\n",
      "Creating load file for Flash: simpleserial-glitch-CW308_NEORV32.hex\n",
      "Creating load file for Flash: simpleserial-glitch-CW308_NEORV32.bin\n",
      "Creating load file for EEPROM: simpleserial-glitch-CW308_NEORV32.eep\n",
      "Creating Extended Listing: simpleserial-glitch-CW308_NEORV32.lss\n",
      "Creating Symbol Table: simpleserial-glitch-CW308_NEORV32.sym\n",
      "riscv32-unknown-elf-objcopy -j .eeprom --set-section-flags=.eeprom=\"alloc,load\" \\\n",
      "--change-section-lma .eeprom=0 --no-change-warnings -O ihex simpleserial-glitch-CW308_NEORV32.elf simpleserial-glitch-CW308_NEORV32.eep || exit 0\n",
      "riscv32-unknown-elf-objcopy -O ihex -R .eeprom -R .fuse -R .lock -R .signature simpleserial-glitch-CW308_NEORV32.elf simpleserial-glitch-CW308_NEORV32.hex\n",
      "riscv32-unknown-elf-objcopy -O binary -R .eeprom -R .fuse -R .lock -R .signature simpleserial-glitch-CW308_NEORV32.elf simpleserial-glitch-CW308_NEORV32.bin\n",
      "riscv32-unknown-elf-objdump -h -S -z simpleserial-glitch-CW308_NEORV32.elf > simpleserial-glitch-CW308_NEORV32.lss\n",
      "riscv32-unknown-elf-nm -n simpleserial-glitch-CW308_NEORV32.elf > simpleserial-glitch-CW308_NEORV32.sym\n",
      "SS_VER set to SS_VER_2_1\n",
      "SS_VER set to SS_VER_2_1\n",
      "Size after:\n",
      "+--------------------------------------------------------\n",
      "+--------------------------------------------------------\n",
      "+ Default target does full rebuild each time.\n",
      "+ Built for platform iCE40 Target with neorv softcore with:\n",
      "+ Specify buildtarget == allquick == to avoid full rebuild\n",
      "+ CRYPTO_TARGET = NONE\n",
      "+--------------------------------------------------------\n",
      "+ CRYPTO_OPTIONS = \n",
      "+--------------------------------------------------------\n",
      "   text\t   data\t    bss\t    dec\t    hex\tfilename\n",
      "   5148\t      0\t   5432\t  10580\t   2954\tsimpleserial-glitch-CW308_NEORV32.elf\n"
     ]
    }
   ],
   "source": [
    "%%bash -s \"$PLATFORM\" \"$SS_VER\"\n",
    "export PATH=$PATH:/mnt/c/devtools/riscv32-unknown-elf.gcc-12.1.0/bin\n",
    "cd /mnt/c/ChipWhisperer570_64/cw/home/portable/chipwhisperer/hardware/victims/firmware/simpleserial-glitch\n",
    "make PLATFORM=CW308_NEORV32 CRYPTO_TARGET=NONE SS_VER=SS_VER_2_1 -j"
   ]
  },
  {
   "cell_type": "code",
   "execution_count": 89,
   "metadata": {},
   "outputs": [],
   "source": [
    "fw_path = \"c:/ChipWhisperer570_64/cw/home/portable/chipwhisperer/hardware/victims/firmware/simpleserial-glitch/simpleserial-glitch-{}.bin\".format(PLATFORM)\n",
    "cw.program_target(scope, prog, fw_path)\n",
    "if SS_VER==\"SS_VER_2_1\":\n",
    "    target.reset_comms()"
   ]
  },
  {
   "cell_type": "code",
   "execution_count": null,
   "metadata": {},
   "outputs": [],
   "source": []
  },
  {
   "cell_type": "code",
   "execution_count": 90,
   "metadata": {},
   "outputs": [],
   "source": [
    "def reboot_flush():\n",
    "    scope.clock.clkgen_freq = 7.37E6\n",
    "    fw_path = \"c:/ChipWhisperer570_64/cw/home/portable/chipwhisperer/hardware/victims/firmware/simpleserial-glitch/simpleserial-glitch-{}.bin\".format(PLATFORM)\n",
    "    cw.program_target(scope, prog, fw_path)\n",
    "\n",
    "    scope.clock.clkgen_freq = 25E6\n",
    "\n",
    "    if SS_VER=='SS_VER_2_1':\n",
    "        target.baud = 230400*25/7.37\n",
    "    else:\n",
    "        target.baud = 38400*25/7.37\n",
    "    \n",
    "    if SS_VER==\"SS_VER_2_1\":\n",
    "        target.reset_comms()"
   ]
  },
  {
   "cell_type": "code",
   "execution_count": 91,
   "metadata": {},
   "outputs": [
    {
     "name": "stdout",
     "output_type": "stream",
     "text": [
      "{'valid': True, 'payload': CWbytearray(b'c4 09 00 00'), 'full_response': CWbytearray(b'00 72 04 c4 09 00 00 15 00'), 'rv': bytearray(b'\\x00')}\n"
     ]
    }
   ],
   "source": [
    "reboot_flush()\n",
    "scope.arm()\n",
    "target.simpleserial_write(\"g\", bytearray([]))\n",
    "scope.capture()\n",
    "val = target.simpleserial_read_witherrors('r', 4, glitch_timeout=10)#For loop check\n",
    "valid = val['valid']\n",
    "if valid:\n",
    "    response = val['payload']\n",
    "    raw_serial = val['full_response']\n",
    "    error_code = val['rv']\n",
    "\n",
    "print(val)"
   ]
  },
  {
   "cell_type": "code",
   "execution_count": 92,
   "metadata": {},
   "outputs": [
    {
     "data": {
      "application/vnd.jupyter.widget-view+json": {
       "model_id": "32d9827ad25d44ce8416f6a24e327e29",
       "version_major": 2,
       "version_minor": 0
      },
      "text/plain": [
       "IntText(value=0, description='success count:', disabled=True)"
      ]
     },
     "metadata": {},
     "output_type": "display_data"
    },
    {
     "data": {
      "application/vnd.jupyter.widget-view+json": {
       "model_id": "14297e8da9694261bfab33464029b784",
       "version_major": 2,
       "version_minor": 0
      },
      "text/plain": [
       "IntText(value=0, description='reset count:', disabled=True)"
      ]
     },
     "metadata": {},
     "output_type": "display_data"
    },
    {
     "data": {
      "application/vnd.jupyter.widget-view+json": {
       "model_id": "8c8aed58e66b4eda93c19e118d99e101",
       "version_major": 2,
       "version_minor": 0
      },
      "text/plain": [
       "IntText(value=0, description='normal count:', disabled=True)"
      ]
     },
     "metadata": {},
     "output_type": "display_data"
    },
    {
     "data": {
      "application/vnd.jupyter.widget-view+json": {
       "model_id": "dcee5dee4a334342acc87db5d82f2dd4",
       "version_major": 2,
       "version_minor": 0
      },
      "text/plain": [
       "FloatSlider(value=0.0, continuous_update=False, description='width setting:', disabled=True, max=10.0, readout…"
      ]
     },
     "metadata": {},
     "output_type": "display_data"
    },
    {
     "data": {
      "application/vnd.jupyter.widget-view+json": {
       "model_id": "d1d1867f6d134e909db723411604c0a0",
       "version_major": 2,
       "version_minor": 0
      },
      "text/plain": [
       "FloatSlider(value=0.0, continuous_update=False, description='offset setting:', disabled=True, max=10.0, readou…"
      ]
     },
     "metadata": {},
     "output_type": "display_data"
    },
    {
     "data": {
      "application/vnd.jupyter.widget-view+json": {
       "model_id": "fd76cd2d76c343878dc25a603e9f9cf2",
       "version_major": 2,
       "version_minor": 0
      },
      "text/plain": [
       "FloatSlider(value=0.0, continuous_update=False, description='ext_offset setting:', disabled=True, max=10.0, re…"
      ]
     },
     "metadata": {},
     "output_type": "display_data"
    },
    {
     "data": {
      "application/vnd.jupyter.widget-view+json": {
       "model_id": "59b0449efc5d4bcb8066b1b550154577",
       "version_major": 2,
       "version_minor": 0
      },
      "text/plain": [
       "FloatSlider(value=0.0, continuous_update=False, description='tries setting:', disabled=True, max=10.0, readout…"
      ]
     },
     "metadata": {},
     "output_type": "display_data"
    }
   ],
   "source": [
    "gc = cw.GlitchController(groups=[\"success\", \"reset\", \"normal\"], parameters=[\"width\", \"offset\", \"ext_offset\", \"tries\"])\n",
    "gc.display_stats()"
   ]
  },
  {
   "cell_type": "markdown",
   "metadata": {},
   "source": [
    "Next, we'll setup the glitch. The main differences here compared to clock glitching is the use of `scope.io.glitch_lp/hp`, which activates the transistors used for voltage, and `scope.glitch.output = 'glitch_only'`, which sends the glitch output to the transistors instead of xoring it with the clock like with clock glitching."
   ]
  },
  {
   "cell_type": "code",
   "execution_count": 93,
   "metadata": {},
   "outputs": [],
   "source": [
    "if scope._is_husky:\n",
    "    scope.glitch.enabled = True\n",
    "    scope.glitch.clk_src = \"pll\"\n",
    "else:\n",
    "    scope.glitch.clk_src = \"clkgen\" # set glitch input clock\n",
    "scope.glitch.output = \"glitch_only\" # glitch_out = clk ^ glitch\n",
    "scope.glitch.trigger_src = \"ext_single\" # glitch only after scope.arm() called\n",
    "\n",
    "scope.io.glitch_trig_mcx = \"trigger\"\n",
    "scope.io.glitch_trig_mcx = \"glitch\"\n",
    "\n",
    "scope.io.glitch_hp = True\n",
    "scope.io.glitch_lp = True"
   ]
  },
  {
   "cell_type": "markdown",
   "metadata": {},
   "source": [
    "Some tips for finding good glitches:\n",
    "\n",
    "1. There's a lot of stuff fighting our glitch this time - unlike the clock line, the Vcc rail isn't supposed to oscillate! As such shorter glitches will have no effect. Often, good widths will be just below when the target starts consistantly crashing, so a good strategy is to find the minimum width where crashes always happen, then backing the width off a bit.\n",
    "1. The repeat parameter behaves very differently than with voltage glitching - at the boosted clock rate, the Vcc often won't recover before the next glitch. Try different repeat values as well.\n",
    "1. We've built in a success/reset measurement into the glitch loop. Once you've found some glitch spots, this will help you evaluate which ones are best for your target.\n",
    "\n",
    "It can take a very long time to do go through the full search space, so you may want to stop after you get a certain number of succeses. By default here, it will be 1, but you may want to change it to 10, 20, or go even higher."
   ]
  },
  {
   "cell_type": "code",
   "execution_count": 94,
   "metadata": {},
   "outputs": [
    {
     "data": {
      "text/plain": [
       "enabled           = True\n",
       "mmcm_locked       = True\n",
       "num_glitches      = 1\n",
       "clk_src           = pll\n",
       "width             = 0\n",
       "offset            = 0\n",
       "trigger_src       = ext_single\n",
       "arm_timing        = after_scope\n",
       "ext_offset        = 0\n",
       "repeat            = 1\n",
       "output            = glitch_only\n",
       "phase_shift_steps = 1344"
      ]
     },
     "execution_count": 94,
     "metadata": {},
     "output_type": "execute_result"
    }
   ],
   "source": [
    "MAX_SUCCESSES = 1000\n",
    "scope.glitch"
   ]
  },
  {
   "cell_type": "code",
   "execution_count": 95,
   "metadata": {},
   "outputs": [
    {
     "data": {
      "text/plain": [
       "58.92857142857143"
      ]
     },
     "execution_count": 95,
     "metadata": {},
     "output_type": "execute_result"
    }
   ],
   "source": [
    "(1 / scope.clock.pll._mmcm_vco_freq) / 56 * 1980 * 1e9"
   ]
  },
  {
   "cell_type": "markdown",
   "metadata": {},
   "source": [
    "The folllowing is for voltage glitching using crowbar:"
   ]
  },
  {
   "cell_type": "code",
   "execution_count": null,
   "metadata": {},
   "outputs": [],
   "source": []
  },
  {
   "cell_type": "code",
   "execution_count": 64,
   "metadata": {},
   "outputs": [
    {
     "name": "stdout",
     "output_type": "stream",
     "text": [
      "(1970, 1344, 1)\n",
      "successes = 1, resets = 0, offset = 1344, width = 1970, ext_offset = 1\n",
      "successes = 1, resets = 1, offset = 0, width = 0, ext_offset = 1\n",
      "(1970, 1344, 2)\n",
      "successes = 1, resets = 0, offset = 1344, width = 1970, ext_offset = 2\n",
      "(1970, 1344, 2)\n",
      "successes = 2, resets = 0, offset = 1344, width = 1970, ext_offset = 2\n",
      "(1970, 1344, 7)\n",
      "successes = 1, resets = 0, offset = 1344, width = 1970, ext_offset = 7\n",
      "(1970, 1344, 7)\n",
      "successes = 2, resets = 0, offset = 1344, width = 1970, ext_offset = 7\n",
      "(1970, 1544, 1)\n",
      "successes = 1, resets = 0, offset = 1544, width = 1970, ext_offset = 1\n",
      "successes = 1, resets = 1, offset = 0, width = 0, ext_offset = 1\n",
      "(1970, 1544, 2)\n",
      "successes = 1, resets = 0, offset = 1544, width = 1970, ext_offset = 2\n",
      "(1970, 1544, 2)\n",
      "successes = 2, resets = 0, offset = 1544, width = 1970, ext_offset = 2\n",
      "(1980, 1344, 2)\n",
      "successes = 1, resets = 0, offset = 1344, width = 1980, ext_offset = 2\n",
      "(1980, 1344, 2)\n",
      "successes = 2, resets = 0, offset = 1344, width = 1980, ext_offset = 2\n"
     ]
    },
    {
     "ename": "KeyboardInterrupt",
     "evalue": "",
     "output_type": "error",
     "traceback": [
      "\u001b[1;31m---------------------------------------------------------------------------\u001b[0m",
      "\u001b[1;31mKeyboardInterrupt\u001b[0m                         Traceback (most recent call last)",
      "Cell \u001b[1;32mIn[64], line 77\u001b[0m\n\u001b[0;32m     75\u001b[0m \u001b[38;5;28;01mif\u001b[39;00m val[\u001b[38;5;124m'\u001b[39m\u001b[38;5;124mvalid\u001b[39m\u001b[38;5;124m'\u001b[39m] \u001b[38;5;129;01mis\u001b[39;00m \u001b[38;5;28;01mFalse\u001b[39;00m:\n\u001b[0;32m     76\u001b[0m     gc\u001b[38;5;241m.\u001b[39madd(\u001b[38;5;124m\"\u001b[39m\u001b[38;5;124mreset\u001b[39m\u001b[38;5;124m\"\u001b[39m)\n\u001b[1;32m---> 77\u001b[0m     \u001b[43mreboot_flush\u001b[49m\u001b[43m(\u001b[49m\u001b[43m)\u001b[49m\n\u001b[0;32m     78\u001b[0m     resets \u001b[38;5;241m+\u001b[39m\u001b[38;5;241m=\u001b[39m \u001b[38;5;241m1\u001b[39m\n\u001b[0;32m     79\u001b[0m     \u001b[38;5;66;03m#print(val)\u001b[39;00m\n\u001b[0;32m     80\u001b[0m \u001b[38;5;28;01melse\u001b[39;00m:\n",
      "Cell \u001b[1;32mIn[57], line 4\u001b[0m, in \u001b[0;36mreboot_flush\u001b[1;34m()\u001b[0m\n\u001b[0;32m      2\u001b[0m scope\u001b[38;5;241m.\u001b[39mclock\u001b[38;5;241m.\u001b[39mclkgen_freq \u001b[38;5;241m=\u001b[39m \u001b[38;5;241m7.37E6\u001b[39m\n\u001b[0;32m      3\u001b[0m fw_path \u001b[38;5;241m=\u001b[39m \u001b[38;5;124m\"\u001b[39m\u001b[38;5;124mc:/ChipWhisperer570_64/cw/home/portable/chipwhisperer/hardware/victims/firmware/simpleserial-glitch/simpleserial-glitch-\u001b[39m\u001b[38;5;132;01m{}\u001b[39;00m\u001b[38;5;124m.bin\u001b[39m\u001b[38;5;124m\"\u001b[39m\u001b[38;5;241m.\u001b[39mformat(PLATFORM)\n\u001b[1;32m----> 4\u001b[0m \u001b[43mcw\u001b[49m\u001b[38;5;241;43m.\u001b[39;49m\u001b[43mprogram_target\u001b[49m\u001b[43m(\u001b[49m\u001b[43mscope\u001b[49m\u001b[43m,\u001b[49m\u001b[43m \u001b[49m\u001b[43mprog\u001b[49m\u001b[43m,\u001b[49m\u001b[43m \u001b[49m\u001b[43mfw_path\u001b[49m\u001b[43m)\u001b[49m\n\u001b[0;32m      6\u001b[0m scope\u001b[38;5;241m.\u001b[39mclock\u001b[38;5;241m.\u001b[39mclkgen_freq \u001b[38;5;241m=\u001b[39m \u001b[38;5;241m25E6\u001b[39m\n\u001b[0;32m      8\u001b[0m \u001b[38;5;28;01mif\u001b[39;00m SS_VER\u001b[38;5;241m==\u001b[39m\u001b[38;5;124m'\u001b[39m\u001b[38;5;124mSS_VER_2_1\u001b[39m\u001b[38;5;124m'\u001b[39m:\n",
      "File \u001b[1;32mc:\\chipwhisperer570_64_fresh\\cw\\home\\portable\\chipwhisperer\\software\\chipwhisperer\\__init__.py:177\u001b[0m, in \u001b[0;36mprogram_target\u001b[1;34m(scope, prog_type, fw_path, **kwargs)\u001b[0m\n\u001b[0;32m    175\u001b[0m     prog\u001b[38;5;241m.\u001b[39mfind()\n\u001b[0;32m    176\u001b[0m     prog\u001b[38;5;241m.\u001b[39merase()\n\u001b[1;32m--> 177\u001b[0m     \u001b[43mprog\u001b[49m\u001b[38;5;241;43m.\u001b[39;49m\u001b[43mprogram\u001b[49m\u001b[43m(\u001b[49m\u001b[43mfw_path\u001b[49m\u001b[43m,\u001b[49m\u001b[43m \u001b[49m\u001b[43mmemtype\u001b[49m\u001b[38;5;241;43m=\u001b[39;49m\u001b[38;5;124;43m\"\u001b[39;49m\u001b[38;5;124;43mflash\u001b[39;49m\u001b[38;5;124;43m\"\u001b[39;49m\u001b[43m,\u001b[49m\u001b[43m \u001b[49m\u001b[43mverify\u001b[49m\u001b[38;5;241;43m=\u001b[39;49m\u001b[38;5;28;43;01mTrue\u001b[39;49;00m\u001b[43m)\u001b[49m\n\u001b[0;32m    178\u001b[0m     prog\u001b[38;5;241m.\u001b[39mclose()\n\u001b[0;32m    179\u001b[0m \u001b[38;5;28;01mexcept\u001b[39;00m:\n",
      "File \u001b[1;32mc:\\chipwhisperer570_64_fresh\\cw\\home\\portable\\chipwhisperer\\software\\chipwhisperer\\capture\\api\\programmers.py:128\u001b[0m, in \u001b[0;36msave_and_restore_pins.<locals>.func_wrapper\u001b[1;34m(self, *args, **kwargs)\u001b[0m\n\u001b[0;32m    125\u001b[0m target_logger\u001b[38;5;241m.\u001b[39mdebug(\u001b[38;5;124m'\u001b[39m\u001b[38;5;124mChanging \u001b[39m\u001b[38;5;132;01m{}\u001b[39;00m\u001b[38;5;124m pin configuration\u001b[39m\u001b[38;5;124m'\u001b[39m\u001b[38;5;241m.\u001b[39mformat(pin_setup))\n\u001b[0;32m    127\u001b[0m \u001b[38;5;28;01mtry\u001b[39;00m:\n\u001b[1;32m--> 128\u001b[0m     val \u001b[38;5;241m=\u001b[39m func(\u001b[38;5;28mself\u001b[39m, \u001b[38;5;241m*\u001b[39margs, \u001b[38;5;241m*\u001b[39m\u001b[38;5;241m*\u001b[39mkwargs)\n\u001b[0;32m    129\u001b[0m \u001b[38;5;28;01mfinally\u001b[39;00m:\n\u001b[0;32m    130\u001b[0m     target_logger\u001b[38;5;241m.\u001b[39mdebug(\u001b[38;5;124m'\u001b[39m\u001b[38;5;124mRestoring \u001b[39m\u001b[38;5;132;01m{}\u001b[39;00m\u001b[38;5;124m pin configuration\u001b[39m\u001b[38;5;124m'\u001b[39m\u001b[38;5;241m.\u001b[39mformat(pin_setup))\n",
      "File \u001b[1;32mc:\\chipwhisperer570_64_fresh\\cw\\home\\portable\\chipwhisperer\\software\\chipwhisperer\\capture\\api\\programmers.py:240\u001b[0m, in \u001b[0;36mNEORV32Programmer.program\u001b[1;34m(self, filename, memtype, verify)\u001b[0m\n\u001b[0;32m    238\u001b[0m \u001b[38;5;129m@save_and_restore_pins\u001b[39m\n\u001b[0;32m    239\u001b[0m \u001b[38;5;28;01mdef\u001b[39;00m \u001b[38;5;21mprogram\u001b[39m(\u001b[38;5;28mself\u001b[39m, filename: \u001b[38;5;28mstr\u001b[39m, memtype\u001b[38;5;241m=\u001b[39m\u001b[38;5;124m\"\u001b[39m\u001b[38;5;124mflash\u001b[39m\u001b[38;5;124m\"\u001b[39m, verify\u001b[38;5;241m=\u001b[39m\u001b[38;5;28;01mTrue\u001b[39;00m):\n\u001b[1;32m--> 240\u001b[0m     \u001b[38;5;28;43mself\u001b[39;49m\u001b[38;5;241;43m.\u001b[39;49m\u001b[43mneorv\u001b[49m\u001b[38;5;241;43m.\u001b[39;49m\u001b[43mprogram\u001b[49m\u001b[43m(\u001b[49m\u001b[43mfilename\u001b[49m\u001b[43m)\u001b[49m\n\u001b[0;32m    241\u001b[0m     \u001b[38;5;28;01mpass\u001b[39;00m\n",
      "File \u001b[1;32mc:\\chipwhisperer570_64_fresh\\cw\\home\\portable\\chipwhisperer\\software\\chipwhisperer\\hardware\\naeusb\\programmer_neorv32.py:75\u001b[0m, in \u001b[0;36mclose_on_fail.<locals>.func_wrapper\u001b[1;34m(self, *args, **kwargs)\u001b[0m\n\u001b[0;32m     72\u001b[0m \u001b[38;5;129m@wraps\u001b[39m(func)\n\u001b[0;32m     73\u001b[0m \u001b[38;5;28;01mdef\u001b[39;00m \u001b[38;5;21mfunc_wrapper\u001b[39m(\u001b[38;5;28mself\u001b[39m, \u001b[38;5;241m*\u001b[39margs, \u001b[38;5;241m*\u001b[39m\u001b[38;5;241m*\u001b[39mkwargs):\n\u001b[0;32m     74\u001b[0m     \u001b[38;5;28;01mtry\u001b[39;00m:\n\u001b[1;32m---> 75\u001b[0m         \u001b[38;5;28;01mreturn\u001b[39;00m func(\u001b[38;5;28mself\u001b[39m, \u001b[38;5;241m*\u001b[39margs, \u001b[38;5;241m*\u001b[39m\u001b[38;5;241m*\u001b[39mkwargs)\n\u001b[0;32m     76\u001b[0m     \u001b[38;5;28;01mexcept\u001b[39;00m:\n\u001b[0;32m     77\u001b[0m         \u001b[38;5;28mself\u001b[39m\u001b[38;5;241m.\u001b[39mclose_port()\n",
      "File \u001b[1;32mc:\\chipwhisperer570_64_fresh\\cw\\home\\portable\\chipwhisperer\\software\\chipwhisperer\\hardware\\naeusb\\programmer_neorv32.py:218\u001b[0m, in \u001b[0;36mNeorv32Programmer.program\u001b[1;34m(self, romfilename, bsfile, check_rom_size)\u001b[0m\n\u001b[0;32m    211\u001b[0m         \u001b[38;5;28;01mraise\u001b[39;00m \u001b[38;5;167;01mValueError\u001b[39;00m(\u001b[38;5;124m\"\u001b[39m\u001b[38;5;124mThis function uploads data to \u001b[39m\u001b[38;5;124m'\u001b[39m\u001b[38;5;124mcode RAM\u001b[39m\u001b[38;5;124m'\u001b[39m\u001b[38;5;124m, so limited to 64KB.\u001b[39m\u001b[38;5;124m\"\u001b[39m \u001b[38;5;241m+\u001b[39m\n\u001b[0;32m    212\u001b[0m                           \u001b[38;5;124m\"\u001b[39m\u001b[38;5;124m Binary appears to be too large, got \u001b[39m\u001b[38;5;132;01m%d\u001b[39;00m\u001b[38;5;124m bytes\u001b[39m\u001b[38;5;124m\"\u001b[39m\u001b[38;5;241m%\u001b[39m\u001b[38;5;28mlen\u001b[39m(romdata))\n\u001b[0;32m    214\u001b[0m \u001b[38;5;66;03m# NB - open_port MUST have been called before this or else the start-up messages\u001b[39;00m\n\u001b[0;32m    215\u001b[0m \u001b[38;5;66;03m# will be lost.\u001b[39;00m\n\u001b[0;32m    216\u001b[0m \n\u001b[0;32m    217\u001b[0m \u001b[38;5;66;03m#If no bitstream reloads the built-in\u001b[39;00m\n\u001b[1;32m--> 218\u001b[0m \u001b[38;5;28;43mself\u001b[39;49m\u001b[38;5;241;43m.\u001b[39;49m\u001b[43mload_ice40\u001b[49m\u001b[43m(\u001b[49m\u001b[43mbsfile\u001b[49m\u001b[43m)\u001b[49m\n\u001b[0;32m    220\u001b[0m \u001b[38;5;66;03m# This time might need to be longer or adjusted on certain builds - TODO test\u001b[39;00m\n\u001b[0;32m    221\u001b[0m time\u001b[38;5;241m.\u001b[39msleep(\u001b[38;5;241m0.2\u001b[39m)\n",
      "File \u001b[1;32mc:\\chipwhisperer570_64_fresh\\cw\\home\\portable\\chipwhisperer\\software\\chipwhisperer\\hardware\\naeusb\\programmer_neorv32.py:135\u001b[0m, in \u001b[0;36mNeorv32Programmer.load_ice40\u001b[1;34m(self, bsfile, force_ice40type)\u001b[0m\n\u001b[0;32m    131\u001b[0m     f\u001b[38;5;241m.\u001b[39mclose()\n\u001b[0;32m    133\u001b[0m \u001b[38;5;66;03m# TODO - currently this uses the 'slower' SPI programming mode as the 'fast' mode only works when passed a file. The fast\u001b[39;00m\n\u001b[0;32m    134\u001b[0m \u001b[38;5;66;03m# mode could be made to work fairly easily as getsome() returns a file-like object.\u001b[39;00m\n\u001b[1;32m--> 135\u001b[0m \u001b[43mfpga\u001b[49m\u001b[38;5;241;43m.\u001b[39;49m\u001b[43mprogram\u001b[49m\u001b[43m(\u001b[49m\u001b[43mbsdata\u001b[49m\u001b[43m)\u001b[49m\n\u001b[0;32m    137\u001b[0m target_logger\u001b[38;5;241m.\u001b[39minfo(\u001b[38;5;124m\"\u001b[39m\u001b[38;5;124miCE40 DONE pin not supported. Maybe it worked!?\u001b[39m\u001b[38;5;124m\"\u001b[39m)\n",
      "File \u001b[1;32mc:\\chipwhisperer570_64_fresh\\cw\\home\\portable\\chipwhisperer\\software\\chipwhisperer\\hardware\\naeusb\\programmer_targetfpga.py:273\u001b[0m, in \u001b[0;36mLatticeICE40.program\u001b[1;34m(self, bs_path_or_data, sck_speed, use_fast_usb, start)\u001b[0m\n\u001b[0;32m    271\u001b[0m spi \u001b[38;5;241m=\u001b[39m SPI(\u001b[38;5;28mself\u001b[39m\u001b[38;5;241m.\u001b[39mscope\u001b[38;5;241m.\u001b[39m_getNAEUSB())\n\u001b[0;32m    272\u001b[0m spi\u001b[38;5;241m.\u001b[39menable(sck_speed)\n\u001b[1;32m--> 273\u001b[0m \u001b[43mspi\u001b[49m\u001b[38;5;241;43m.\u001b[39;49m\u001b[43mtransfer\u001b[49m\u001b[43m(\u001b[49m\u001b[43mdata\u001b[49m\u001b[43m,\u001b[49m\u001b[43m \u001b[49m\u001b[43mwriteonly\u001b[49m\u001b[38;5;241;43m=\u001b[39;49m\u001b[38;5;28;43;01mTrue\u001b[39;49;00m\u001b[43m)\u001b[49m\n\u001b[0;32m    274\u001b[0m \u001b[38;5;28;01mif\u001b[39;00m start \u001b[38;5;129;01mis\u001b[39;00m \u001b[38;5;28;01mTrue\u001b[39;00m:\n\u001b[0;32m    275\u001b[0m     spi\u001b[38;5;241m.\u001b[39mtransfer([\u001b[38;5;241m0\u001b[39m]\u001b[38;5;241m*\u001b[39m\u001b[38;5;241m256\u001b[39m, writeonly\u001b[38;5;241m=\u001b[39m\u001b[38;5;28;01mTrue\u001b[39;00m)\n",
      "File \u001b[1;32mc:\\chipwhisperer570_64_fresh\\cw\\home\\portable\\chipwhisperer\\software\\chipwhisperer\\hardware\\naeusb\\spi.py:134\u001b[0m, in \u001b[0;36mSPI.transfer\u001b[1;34m(self, data, start, stop, writeonly)\u001b[0m\n\u001b[0;32m    132\u001b[0m wdata \u001b[38;5;241m=\u001b[39m data[si:ei]\n\u001b[0;32m    133\u001b[0m \u001b[38;5;28;01mif\u001b[39;00m \u001b[38;5;28mlen\u001b[39m(wdata):\n\u001b[1;32m--> 134\u001b[0m     rdata \u001b[38;5;241m=\u001b[39m \u001b[38;5;28;43mself\u001b[39;49m\u001b[38;5;241;43m.\u001b[39;49m\u001b[43mtransfer_max64\u001b[49m\u001b[43m(\u001b[49m\u001b[43mwdata\u001b[49m\u001b[43m,\u001b[49m\u001b[43m \u001b[49m\u001b[43mwriteonly\u001b[49m\u001b[38;5;241;43m=\u001b[39;49m\u001b[43mwriteonly\u001b[49m\u001b[43m)\u001b[49m\n\u001b[0;32m    135\u001b[0m     \u001b[38;5;28;01mif\u001b[39;00m writeonly \u001b[38;5;129;01mis\u001b[39;00m \u001b[38;5;28;01mTrue\u001b[39;00m:\n\u001b[0;32m    136\u001b[0m         readdata \u001b[38;5;241m=\u001b[39m \u001b[38;5;28;01mNone\u001b[39;00m\n",
      "File \u001b[1;32mc:\\chipwhisperer570_64_fresh\\cw\\home\\portable\\chipwhisperer\\software\\chipwhisperer\\hardware\\naeusb\\spi.py:163\u001b[0m, in \u001b[0;36mSPI.transfer_max64\u001b[1;34m(self, data, writeonly)\u001b[0m\n\u001b[0;32m    160\u001b[0m \u001b[38;5;28;01mif\u001b[39;00m \u001b[38;5;28mlen\u001b[39m(data) \u001b[38;5;241m==\u001b[39m \u001b[38;5;241m0\u001b[39m:\n\u001b[0;32m    161\u001b[0m     \u001b[38;5;28;01mraise\u001b[39;00m \u001b[38;5;167;01mValueError\u001b[39;00m(\u001b[38;5;124m\"\u001b[39m\u001b[38;5;124mLength of input data must be > 0\u001b[39m\u001b[38;5;124m\"\u001b[39m)\n\u001b[1;32m--> 163\u001b[0m \u001b[38;5;28;43mself\u001b[39;49m\u001b[38;5;241;43m.\u001b[39;49m\u001b[43msendCtrl\u001b[49m\u001b[43m(\u001b[49m\u001b[38;5;28;43mself\u001b[39;49m\u001b[38;5;241;43m.\u001b[39;49m\u001b[43mCMD_SPI\u001b[49m\u001b[43m,\u001b[49m\u001b[43m \u001b[49m\u001b[38;5;28;43mself\u001b[39;49m\u001b[38;5;241;43m.\u001b[39;49m\u001b[43mSPI_CMD_DATA\u001b[49m\u001b[43m,\u001b[49m\u001b[43m \u001b[49m\u001b[43mdata\u001b[49m\u001b[43m)\u001b[49m\n\u001b[0;32m    165\u001b[0m \u001b[38;5;66;03m#Ignore input data\u001b[39;00m\n\u001b[0;32m    166\u001b[0m \u001b[38;5;28;01mif\u001b[39;00m writeonly:\n",
      "File \u001b[1;32mc:\\chipwhisperer570_64_fresh\\cw\\home\\portable\\chipwhisperer\\software\\chipwhisperer\\hardware\\naeusb\\naeusb.py:792\u001b[0m, in \u001b[0;36mNAEUSB.sendCtrl\u001b[1;34m(self, cmd, value, data)\u001b[0m\n\u001b[0;32m    788\u001b[0m \u001b[38;5;250m\u001b[39m\u001b[38;5;124;03m\"\"\"\u001b[39;00m\n\u001b[0;32m    789\u001b[0m \u001b[38;5;124;03mSend data over control endpoint\u001b[39;00m\n\u001b[0;32m    790\u001b[0m \u001b[38;5;124;03m\"\"\"\u001b[39;00m\n\u001b[0;32m    791\u001b[0m \u001b[38;5;66;03m# Vendor-specific, OUT, interface control transfer\u001b[39;00m\n\u001b[1;32m--> 792\u001b[0m \u001b[38;5;28;43mself\u001b[39;49m\u001b[38;5;241;43m.\u001b[39;49m\u001b[43musbserializer\u001b[49m\u001b[38;5;241;43m.\u001b[39;49m\u001b[43msendCtrl\u001b[49m\u001b[43m(\u001b[49m\u001b[43mcmd\u001b[49m\u001b[43m,\u001b[49m\u001b[43m \u001b[49m\u001b[43mvalue\u001b[49m\u001b[43m,\u001b[49m\u001b[43m \u001b[49m\u001b[43mdata\u001b[49m\u001b[43m)\u001b[49m\n",
      "File \u001b[1;32mc:\\chipwhisperer570_64_fresh\\cw\\home\\portable\\chipwhisperer\\software\\chipwhisperer\\hardware\\naeusb\\naeusb.py:505\u001b[0m, in \u001b[0;36mNAEUSB_Backend.sendCtrl\u001b[1;34m(self, cmd, value, data)\u001b[0m\n\u001b[0;32m    503\u001b[0m \u001b[38;5;28;01mif\u001b[39;00m \u001b[38;5;28mlen\u001b[39m(data) \u001b[38;5;241m>\u001b[39m \u001b[38;5;241m128\u001b[39m:\n\u001b[0;32m    504\u001b[0m     naeusb_logger\u001b[38;5;241m.\u001b[39merror(\u001b[38;5;124m\"\u001b[39m\u001b[38;5;124mThe naeusb fw ctrl buffer is 128 bytes, but len(data) > 128. If you get a pipe error, this is why.\u001b[39m\u001b[38;5;124m\"\u001b[39m)\n\u001b[1;32m--> 505\u001b[0m \u001b[38;5;28;43mself\u001b[39;49m\u001b[38;5;241;43m.\u001b[39;49m\u001b[43mhandle\u001b[49m\u001b[38;5;241;43m.\u001b[39;49m\u001b[43mcontrolWrite\u001b[49m\u001b[43m(\u001b[49m\u001b[38;5;241;43m0x41\u001b[39;49m\u001b[43m,\u001b[49m\u001b[43m \u001b[49m\u001b[43mcmd\u001b[49m\u001b[43m,\u001b[49m\u001b[43m \u001b[49m\u001b[43mvalue\u001b[49m\u001b[43m,\u001b[49m\u001b[43m \u001b[49m\u001b[38;5;241;43m0\u001b[39;49m\u001b[43m,\u001b[49m\u001b[43m \u001b[49m\u001b[43mdata\u001b[49m\u001b[43m,\u001b[49m\u001b[43m \u001b[49m\u001b[43mtimeout\u001b[49m\u001b[38;5;241;43m=\u001b[39;49m\u001b[38;5;28;43mself\u001b[39;49m\u001b[38;5;241;43m.\u001b[39;49m\u001b[43m_timeout\u001b[49m\u001b[43m)\u001b[49m\n",
      "File \u001b[1;32mC:\\CHIPWH~4\\cw\\home\\portable\\WPy64-31080\\python-3.10.8.amd64\\lib\\site-packages\\usb1\\__init__.py:1330\u001b[0m, in \u001b[0;36mUSBDeviceHandle.controlWrite\u001b[1;34m(self, request_type, request, value, index, data, timeout)\u001b[0m\n\u001b[0;32m   1328\u001b[0m \u001b[38;5;66;03m# pylint: enable=undefined-variable\u001b[39;00m\n\u001b[0;32m   1329\u001b[0m data, _ \u001b[38;5;241m=\u001b[39m create_initialised_buffer(data)\n\u001b[1;32m-> 1330\u001b[0m \u001b[38;5;28;01mreturn\u001b[39;00m \u001b[38;5;28;43mself\u001b[39;49m\u001b[38;5;241;43m.\u001b[39;49m\u001b[43m_controlTransfer\u001b[49m\u001b[43m(\u001b[49m\u001b[43mrequest_type\u001b[49m\u001b[43m,\u001b[49m\u001b[43m \u001b[49m\u001b[43mrequest\u001b[49m\u001b[43m,\u001b[49m\u001b[43m \u001b[49m\u001b[43mvalue\u001b[49m\u001b[43m,\u001b[49m\u001b[43m \u001b[49m\u001b[43mindex\u001b[49m\u001b[43m,\u001b[49m\u001b[43m \u001b[49m\u001b[43mdata\u001b[49m\u001b[43m,\u001b[49m\n\u001b[0;32m   1331\u001b[0m \u001b[43m                             \u001b[49m\u001b[43msizeof\u001b[49m\u001b[43m(\u001b[49m\u001b[43mdata\u001b[49m\u001b[43m)\u001b[49m\u001b[43m,\u001b[49m\u001b[43m \u001b[49m\u001b[43mtimeout\u001b[49m\u001b[43m)\u001b[49m\n",
      "File \u001b[1;32mC:\\CHIPWH~4\\cw\\home\\portable\\WPy64-31080\\python-3.10.8.amd64\\lib\\site-packages\\usb1\\__init__.py:1303\u001b[0m, in \u001b[0;36mUSBDeviceHandle._controlTransfer\u001b[1;34m(self, request_type, request, value, index, data, length, timeout)\u001b[0m\n\u001b[0;32m   1301\u001b[0m \u001b[38;5;28;01mdef\u001b[39;00m \u001b[38;5;21m_controlTransfer\u001b[39m(\n\u001b[0;32m   1302\u001b[0m         \u001b[38;5;28mself\u001b[39m, request_type, request, value, index, data, length, timeout):\n\u001b[1;32m-> 1303\u001b[0m     result \u001b[38;5;241m=\u001b[39m \u001b[43mlibusb1\u001b[49m\u001b[38;5;241;43m.\u001b[39;49m\u001b[43mlibusb_control_transfer\u001b[49m\u001b[43m(\u001b[49m\n\u001b[0;32m   1304\u001b[0m \u001b[43m        \u001b[49m\u001b[38;5;28;43mself\u001b[39;49m\u001b[38;5;241;43m.\u001b[39;49m\u001b[43m__handle\u001b[49m\u001b[43m,\u001b[49m\u001b[43m \u001b[49m\u001b[43mrequest_type\u001b[49m\u001b[43m,\u001b[49m\u001b[43m \u001b[49m\u001b[43mrequest\u001b[49m\u001b[43m,\u001b[49m\u001b[43m \u001b[49m\u001b[43mvalue\u001b[49m\u001b[43m,\u001b[49m\u001b[43m \u001b[49m\u001b[43mindex\u001b[49m\u001b[43m,\u001b[49m\u001b[43m \u001b[49m\u001b[43mdata\u001b[49m\u001b[43m,\u001b[49m\u001b[43m \u001b[49m\u001b[43mlength\u001b[49m\u001b[43m,\u001b[49m\n\u001b[0;32m   1305\u001b[0m \u001b[43m        \u001b[49m\u001b[43mtimeout\u001b[49m\u001b[43m,\u001b[49m\n\u001b[0;32m   1306\u001b[0m \u001b[43m    \u001b[49m\u001b[43m)\u001b[49m\n\u001b[0;32m   1307\u001b[0m     mayRaiseUSBError(result)\n\u001b[0;32m   1308\u001b[0m     \u001b[38;5;28;01mreturn\u001b[39;00m result\n",
      "\u001b[1;31mKeyboardInterrupt\u001b[0m: "
     ]
    }
   ],
   "source": [
    "import struct\n",
    "\n",
    "#disable logging\n",
    "cw.set_all_log_levels(cw.logging.CRITICAL)\n",
    "\n",
    "# These width/offset settings are for CW-Lite/Pro; width/offset are expressed differently for Husky (see Fault 1_1)\n",
    "\n",
    "num_tries = 1\n",
    "gc.set_range(\"tries\", 0, num_tries)\n",
    "\n",
    "gc.set_range(\"width\", 1800, 2000)\n",
    "gc.set_range(\"offset\", 2000, scope.glitch.phase_shift_steps)\n",
    "gc.set_global_step([200])\n",
    "gc.set_step(\"width\", 10)\n",
    "\n",
    "gc.set_step(\"ext_offset\", 1)\n",
    "gc.set_range(\"ext_offset\", 0, 10)\n",
    "scope.adc.lo_gain_errors_disabled = True\n",
    "scope.adc.clip_errors_disabled = True\n",
    "\n",
    "    \n",
    "scope.glitch.repeat = 4\n",
    "\n",
    "gc.set_step(\"tries\", 1)\n",
    "scope.adc.timeout = 0.5\n",
    "\n",
    "reboot_flush()\n",
    "loff = scope.glitch.offset\n",
    "lwid = scope.glitch.width\n",
    "total_successes = 0\n",
    "successes = 0\n",
    "resets = 0\n",
    "for glitch_setting in gc.glitch_values():\n",
    "    scope.glitch.offset = glitch_setting[1]\n",
    "    scope.glitch.width = glitch_setting[0]\n",
    "    scope.glitch.ext_offset = glitch_setting[2]\n",
    "    #print(scope.glitch.ext_offset)\n",
    "    if glitch_setting[3] == 0:\n",
    "        total_successes += successes\n",
    "        successes = 0\n",
    "        resets = 0\n",
    "        if total_successes > MAX_SUCCESSES:\n",
    "            break\n",
    "    target.flush()\n",
    "    if scope.adc.state:\n",
    "        # can detect crash here (fast) before timing out (slow)\n",
    "        #print(\"Trigger still high!\")\n",
    "        gc.add(\"reset\")\n",
    "\n",
    "        #Device is slow to boot?\n",
    "        reboot_flush()\n",
    "        resets += 1\n",
    "\n",
    "    scope.arm()\n",
    "\n",
    "    #Do glitch loop\n",
    "    target.simpleserial_write(\"g\", bytearray([]))\n",
    "\n",
    "    ret = scope.capture()\n",
    "\n",
    "    scope.io.glitch_hp = False\n",
    "    scope.io.glitch_hp = True\n",
    "    scope.io.glitch_lp = False\n",
    "    scope.io.glitch_lp = True\n",
    "    if ret:\n",
    "        #print('Timeout - no trigger')\n",
    "        gc.add(\"reset\")\n",
    "        resets += 1\n",
    "\n",
    "        #Device is slow to boot?\n",
    "        reboot_flush()\n",
    "\n",
    "    else:\n",
    "        val = target.simpleserial_read_witherrors('r', 4, glitch_timeout=10, timeout=50)#For loop check\n",
    "        if val['valid'] is False:\n",
    "            gc.add(\"reset\")\n",
    "            reboot_flush()\n",
    "            resets += 1\n",
    "            #print(val)\n",
    "        else:\n",
    "            gcnt = struct.unpack(\"<I\", val['payload'])[0]\n",
    "\n",
    "            if gcnt != 2500: #for loop check\n",
    "                gc.add(\"success\")\n",
    "                print((scope.glitch.width, scope.glitch.offset, scope.glitch.ext_offset))\n",
    "                successes += 1\n",
    "            else:\n",
    "                gc.add(\"normal\")\n",
    "    if (successes > 0):\n",
    "        print(\"successes = {}, resets = {}, offset = {}, width = {}, ext_offset = {}\".format(successes, resets, scope.glitch.offset, scope.glitch.width, scope.glitch.ext_offset))\n",
    "        total_successes += successes\n",
    "print(\"Done glitching\")\n",
    "#enable logging\n",
    "cw.set_all_log_levels(cw.logging.WARNING)"
   ]
  },
  {
   "cell_type": "markdown",
   "metadata": {},
   "source": [
    "The folllowing is for BBI & EMFI glitching using the aux output to drive the equipment:"
   ]
  },
  {
   "cell_type": "code",
   "execution_count": 96,
   "metadata": {},
   "outputs": [
    {
     "name": "stdout",
     "output_type": "stream",
     "text": [
      "(0, 1944, 2)\n",
      "successes = 1, resets = 0, offset = 1944, width = 0, ext_offset = 2\n",
      "successes = 1, resets = 1, offset = 0, width = 0, ext_offset = 2\n",
      "successes = 1, resets = 2, offset = 0, width = 0, ext_offset = 2\n",
      "(0, 1944, 2)\n",
      "successes = 2, resets = 2, offset = 1944, width = 0, ext_offset = 2\n",
      "(0, 1944, 7)\n",
      "successes = 1, resets = 0, offset = 1944, width = 0, ext_offset = 7\n",
      "(0, 1944, 7)\n",
      "successes = 2, resets = 0, offset = 1944, width = 0, ext_offset = 7\n",
      "Done glitching\n"
     ]
    }
   ],
   "source": [
    "import struct\n",
    "\n",
    "scope.glitch.output = \"enable_only\"\n",
    "\n",
    "scope.io.glitch_hp = False\n",
    "scope.io.glitch_lp = False\n",
    "\n",
    "#disable logging\n",
    "cw.set_all_log_levels(cw.logging.CRITICAL)\n",
    "\n",
    "# These width/offset settings are for CW-Lite/Pro; width/offset are expressed differently for Husky (see Fault 1_1)\n",
    "\n",
    "num_tries = 5\n",
    "gc.set_range(\"tries\", 0, num_tries)\n",
    "\n",
    "gc.set_range(\"width\", 5, 15)\n",
    "gc.set_range(\"offset\", 2000, scope.glitch.phase_shift_steps)\n",
    "gc.set_global_step([200])\n",
    "gc.set_step(\"width\", 1)\n",
    "\n",
    "gc.set_step(\"ext_offset\", 1)\n",
    "gc.set_range(\"ext_offset\", 0, 10)\n",
    "scope.adc.lo_gain_errors_disabled = True\n",
    "scope.adc.clip_errors_disabled = True\n",
    "\n",
    "    \n",
    "scope.glitch.repeat = 1\n",
    "\n",
    "gc.set_step(\"tries\", 1)\n",
    "scope.adc.timeout = 0.5\n",
    "\n",
    "reboot_flush()\n",
    "loff = scope.glitch.offset\n",
    "lwid = scope.glitch.width\n",
    "total_successes = 0\n",
    "successes = 0\n",
    "resets = 0\n",
    "for glitch_setting in gc.glitch_values():\n",
    "    scope.glitch.offset = glitch_setting[1]\n",
    "    scope.glitch.repeat = glitch_setting[0] #scope.glitch.width = glitch_setting[0]\n",
    "    scope.glitch.ext_offset = glitch_setting[2]\n",
    "    #print(scope.glitch.ext_offset)\n",
    "    if glitch_setting[3] == 0:\n",
    "        total_successes += successes\n",
    "        successes = 0\n",
    "        resets = 0\n",
    "        if total_successes > MAX_SUCCESSES:\n",
    "            break\n",
    "    target.flush()\n",
    "    if scope.adc.state:\n",
    "        # can detect crash here (fast) before timing out (slow)\n",
    "        #print(\"Trigger still high!\")\n",
    "        gc.add(\"reset\")\n",
    "\n",
    "        #Device is slow to boot?\n",
    "        reboot_flush()\n",
    "        resets += 1\n",
    "\n",
    "    scope.arm()\n",
    "\n",
    "    #Do glitch loop\n",
    "    target.simpleserial_write(\"g\", bytearray([]))\n",
    "\n",
    "    ret = scope.capture()\n",
    "    \n",
    "    if ret:\n",
    "        #print('Timeout - no trigger')\n",
    "        gc.add(\"reset\")\n",
    "        resets += 1\n",
    "\n",
    "        #Device is slow to boot?\n",
    "        reboot_flush()\n",
    "\n",
    "    else:\n",
    "        val = target.simpleserial_read_witherrors('r', 4, glitch_timeout=10, timeout=50)#For loop check\n",
    "        if val['valid'] is False:\n",
    "            gc.add(\"reset\")\n",
    "            reboot_flush()\n",
    "            resets += 1\n",
    "            #print(val)\n",
    "        else:\n",
    "            gcnt = struct.unpack(\"<I\", val['payload'])[0]\n",
    "\n",
    "            if gcnt != 2500: #for loop check\n",
    "                gc.add(\"success\")\n",
    "                print((scope.glitch.width, scope.glitch.offset, scope.glitch.ext_offset))\n",
    "                successes += 1\n",
    "            else:\n",
    "                gc.add(\"normal\")\n",
    "    if (successes > 0):\n",
    "        print(\"successes = {}, resets = {}, offset = {}, width = {}, ext_offset = {}\".format(successes, resets, scope.glitch.offset, scope.glitch.width, scope.glitch.ext_offset))\n",
    "        total_successes += successes\n",
    "print(\"Done glitching\")\n",
    "#enable logging\n",
    "cw.set_all_log_levels(cw.logging.WARNING)"
   ]
  },
  {
   "cell_type": "code",
   "execution_count": null,
   "metadata": {},
   "outputs": [],
   "source": [
    "gc.plot_2d(alpha=False)"
   ]
  },
  {
   "cell_type": "code",
   "execution_count": null,
   "metadata": {},
   "outputs": [],
   "source": [
    "scope.dis()\n",
    "target.dis()"
   ]
  },
  {
   "cell_type": "code",
   "execution_count": null,
   "metadata": {},
   "outputs": [],
   "source": [
    "assert total_successes >= 1"
   ]
  }
 ],
 "metadata": {
  "kernelspec": {
   "display_name": "Python 3 (ipykernel)",
   "language": "python",
   "name": "python3"
  },
  "language_info": {
   "codemirror_mode": {
    "name": "ipython",
    "version": 3
   },
   "file_extension": ".py",
   "mimetype": "text/x-python",
   "name": "python",
   "nbconvert_exporter": "python",
   "pygments_lexer": "ipython3",
   "version": "3.10.8"
  }
 },
 "nbformat": 4,
 "nbformat_minor": 4
}
