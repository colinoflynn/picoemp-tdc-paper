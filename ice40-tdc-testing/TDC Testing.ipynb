{
 "cells": [
  {
   "cell_type": "markdown",
   "id": "b109e48a",
   "metadata": {},
   "source": [
    "```\n",
    "pip install apio\n",
    "```\n",
    "\n",
    "On Windows if you get a permission error:\n",
    "\n",
    "```\n",
    "(python.exe -m pip install apio)\n",
    "```\n",
    "\n",
    "Once `apio` is installed, installed the `oss-cad-suite`:\n",
    "\n",
    "```\n",
    "apio install oss-cad-suite\n",
    "```\n",
    "\n",
    "Other links:\n",
    "https://github.com/YosysHQ/nextpnr/issues/660\n",
    "https://github.com/tgingold/OpenTDC/tree/master"
   ]
  },
  {
   "cell_type": "code",
   "execution_count": 1,
   "id": "e2c5d435",
   "metadata": {},
   "outputs": [],
   "source": [
    "SCOPETYPE = 'OPENADC'\n",
    "PLATFORM = 'CW308_NEORV32'\n",
    "SS_VER = 'SS_VER_1_0'"
   ]
  },
  {
   "cell_type": "code",
   "execution_count": 7,
   "id": "d5c9dbd5",
   "metadata": {},
   "outputs": [
    {
     "name": "stdout",
     "output_type": "stream",
     "text": [
      "INFO: Found ChipWhisperer😍\n"
     ]
    }
   ],
   "source": [
    "%run \"c:/ChipWhisperer570_64/cw/home/portable/chipwhisperer/jupyter/Setup_Scripts/Setup_Generic.ipynb\""
   ]
  },
  {
   "cell_type": "code",
   "execution_count": 10,
   "id": "a803635c",
   "metadata": {},
   "outputs": [
    {
     "data": {
      "text/plain": [
       "tio1            = high_z\n",
       "tio2            = high_z\n",
       "tio3            = high_z\n",
       "tio4            = high_z\n",
       "pdid            = low\n",
       "pdic            = high_z\n",
       "nrst            = high\n",
       "glitch_hp       = False\n",
       "glitch_lp       = False\n",
       "extclk_src      = hs1\n",
       "hs2             = clkgen\n",
       "target_pwr      = True\n",
       "tio_states      = (1, 1, 1, 0)\n",
       "cdc_settings    = bytearray(b'\\x00\\x00\\x00\\x00')\n",
       "aux_io_mcx      = high_z\n",
       "glitch_trig_mcx = trigger"
      ]
     },
     "execution_count": 10,
     "metadata": {},
     "output_type": "execute_result"
    }
   ],
   "source": [
    "scope.io.tio1 = None\n",
    "scope.io.tio2 = None"
   ]
  },
  {
   "cell_type": "code",
   "execution_count": 16,
   "id": "720d8fe7",
   "metadata": {},
   "outputs": [],
   "source": []
  },
  {
   "cell_type": "code",
   "execution_count": 53,
   "id": "941da071",
   "metadata": {},
   "outputs": [
    {
     "data": {
      "text/plain": [
       "CompletedProcess(args='apio build', returncode=0)"
      ]
     },
     "execution_count": 53,
     "metadata": {},
     "output_type": "execute_result"
    }
   ],
   "source": [
    "import subprocess\n",
    "subprocess.run(\"apio build\", cwd=\"rtl-delaytests\", shell=True, check=True)"
   ]
  },
  {
   "cell_type": "code",
   "execution_count": 54,
   "id": "3b4fd4c4",
   "metadata": {},
   "outputs": [],
   "source": [
    "from chipwhisperer.hardware.naeusb.programmer_targetfpga import LatticeICE40\n",
    "bs = r\"C:\\Users\\cofly\\Dropbox (NewAE Technology Inc)\\engineering\\research\\ice40-glitch-meter\\cw308_real\\rtl-delaytests\\hardware.bin\"\n",
    "\n",
    "ice = LatticeICE40(scope)\n",
    "\n",
    "def reboot_flush():\n",
    "    scope.clock.clkgen_freq = 7.37E6\n",
    "    \n",
    "    ice.erase_and_init()\n",
    "    ice.program(bs)\n",
    "\n",
    "    scope.clock.clkgen_freq = 25E6\n",
    "\n",
    "reboot_flush()"
   ]
  },
  {
   "cell_type": "markdown",
   "id": "0c6c8b8e",
   "metadata": {},
   "source": [
    "Measured using picoscope with ETS (10 GS/s):\n",
    "\n",
    "For carry-line implementation:\n",
    "1.1V:\n",
    "1: 2.692 nS\n",
    "2: 3.425 nS\n",
    "3: 3.660 nS\n",
    "4: 4.260 nS\n",
    "\n",
    "1.2V:\n",
    "1: 2.218 nS\n",
    "2: 2.758 nS\n",
    "3: 2.905 nS\n",
    "4: 3.312 nS\n",
    "\n",
    "\n",
    "1.3V: \n",
    "1: 1.890 nS\n",
    "2: 2.320 nS\n",
    "3: 2.460 nS\n",
    "4: 2.792 nS\n",
    "\n",
    "For LUT implementation:\n",
    "1.1V:\n",
    "1: 2.134 nS\n",
    "2: 3.770 nS\n",
    "3: 5.172 nS\n",
    "4: 8.408 nS\n",
    "\n",
    "1.2V:\n",
    "1: 1.767 nS\n",
    "2: 2.990 nS\n",
    "3: 3.935 nS\n",
    "4: 6.113 nS\n",
    "\n",
    "1.3V:\n",
    "1: 1.536 nS\n",
    "2: 2.516 nS\n",
    "3: 3.218 nS\n",
    "4: 4.909 nS"
   ]
  },
  {
   "cell_type": "code",
   "execution_count": 104,
   "id": "ef81f523",
   "metadata": {},
   "outputs": [],
   "source": [
    "datastr_tdc = \"\"\"1.1V:\n",
    "1: 2.692 nS\n",
    "2: 3.425 nS\n",
    "3: 3.660 nS\n",
    "4: 4.260 nS\n",
    "\n",
    "1.2V:\n",
    "1: 2.218 nS\n",
    "2: 2.758 nS\n",
    "3: 2.905 nS\n",
    "4: 3.312 nS\n",
    "\n",
    "1.3V:\n",
    "1: 1.890 nS\n",
    "2: 2.320 nS\n",
    "3: 2.460 nS\n",
    "4: 2.792 nS\"\"\"\n",
    "\n",
    "datastr_lut = \"\"\"1.1V:\n",
    "1: 2.134 nS\n",
    "2: 3.770 nS\n",
    "3: 5.172 nS\n",
    "4: 8.408 nS\n",
    "\n",
    "1.2V:\n",
    "1: 1.767 nS\n",
    "2: 2.990 nS\n",
    "3: 3.935 nS\n",
    "4: 6.113 nS\n",
    "\n",
    "1.3V:\n",
    "1: 1.536 nS\n",
    "2: 2.516 nS\n",
    "3: 3.218 nS\n",
    "4: 4.909 nS\"\"\""
   ]
  },
  {
   "cell_type": "code",
   "execution_count": 106,
   "id": "b578b9b3",
   "metadata": {},
   "outputs": [
    {
     "name": "stdout",
     "output_type": "stream",
     "text": [
      "Using carry chain:\n",
      "mean = 0.522667, stddev = 0.210533\n",
      "mean = 0.364667, stddev = 0.163210\n",
      "mean = 0.300667, stddev = 0.120447\n",
      "Using LUT:\n",
      "mean = 2.091333, stddev = 0.815020\n",
      "mean = 1.448667, stddev = 0.528057\n",
      "mean = 1.124333, stddev = 0.416457\n"
     ]
    }
   ],
   "source": [
    "import numpy as np\n",
    "\n",
    "def print_stats(datastr):\n",
    "    starts = [datastr.find(\"1.1V:\"), datastr.find(\"1.2V:\"), datastr.find(\"1.3V\")]\n",
    "    data1v1 = datastr[starts[0]:starts[1]][6:]\n",
    "    data1v2 = datastr[starts[1]:starts[2]][6:]\n",
    "    data1v3 = datastr[starts[2]:][6:]\n",
    "\n",
    "    datasets = [data1v1, data1v2, data1v3]\n",
    "    for data in datasets:\n",
    "        datasplit = data.split('\\n')[0:4]\n",
    "        times = []\n",
    "        for point in datasplit:\n",
    "            items = point.split()\n",
    "            times.append(float(items[1]))\n",
    "\n",
    "        diffs = [times[1]-times[0], times[2]-times[1], times[3]-times[2]]\n",
    "\n",
    "        print(\"mean = %f, stddev = %f\"%(np.mean(diffs), np.std(diffs)))\n",
    "\n",
    "print(\"Using carry chain:\")\n",
    "print_stats(datastr_tdc)\n",
    "\n",
    "print(\"Using LUT:\")\n",
    "print_stats(datastr_lut)"
   ]
  },
  {
   "cell_type": "code",
   "execution_count": null,
   "id": "b075bb49",
   "metadata": {},
   "outputs": [],
   "source": []
  }
 ],
 "metadata": {
  "kernelspec": {
   "display_name": "Python 3 (ipykernel)",
   "language": "python",
   "name": "python3"
  },
  "language_info": {
   "codemirror_mode": {
    "name": "ipython",
    "version": 3
   },
   "file_extension": ".py",
   "mimetype": "text/x-python",
   "name": "python",
   "nbconvert_exporter": "python",
   "pygments_lexer": "ipython3",
   "version": "3.10.8"
  }
 },
 "nbformat": 4,
 "nbformat_minor": 5
}
